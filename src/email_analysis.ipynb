{
 "cells": [
  {
   "cell_type": "code",
   "execution_count": 2,
   "metadata": {},
   "outputs": [],
   "source": [
    "from pathlib import Path"
   ]
  },
  {
   "cell_type": "code",
   "execution_count": 7,
   "metadata": {},
   "outputs": [],
   "source": [
    "import json\n",
    "\n",
    "emails_raw = Path(\"~/Downloads/emails.json\").expanduser().read_text()\n",
    "emails = json.loads(emails_raw)\n"
   ]
  },
  {
   "cell_type": "code",
   "execution_count": 12,
   "metadata": {},
   "outputs": [],
   "source": [
    "emails[0]\n",
    "\n",
    "def format_email(email):\n",
    "    return f\"From: {email['from']}\\n\" \\\n",
    "        f\"To: {email['to']}\\n\" \\\n",
    "        f\"Subject: {email['subject']}\\n\" \\\n",
    "        f\"Body (snippet): {email['snippet']}\"\n",
    "\n",
    "emails_formatted = [format_email(email) for email in emails]"
   ]
  },
  {
   "cell_type": "code",
   "execution_count": 22,
   "metadata": {},
   "outputs": [],
   "source": [
    "import openai\n",
    "\n",
    "api_key = Path(\"~/.openai\").expanduser().read_text()\n",
    "\n",
    "client = openai.OpenAI(api_key=api_key)\n",
    "\n",
    "embeddings = client.embeddings.create(\n",
    "    model=\"text-embedding-3-large\",\n",
    "    input=emails_formatted,\n",
    ")"
   ]
  },
  {
   "cell_type": "code",
   "execution_count": null,
   "metadata": {},
   "outputs": [],
   "source": [
    "import numpy as np\n",
    "\n",
    "embeddings_np = np.array([embedding.embedding for embedding in embeddings.data])\n",
    "\n",
    "embeddings_np.shape\n"
   ]
  },
  {
   "cell_type": "code",
   "execution_count": null,
   "metadata": {},
   "outputs": [],
   "source": [
    "# Apply PCA\n",
    "from sklearn.decomposition import PCA\n",
    "pca = PCA(n_components=100)\n",
    "embeddings_pca = pca.fit_transform(embeddings_np)\n",
    "\n",
    "embeddings_pca.shape\n"
   ]
  },
  {
   "cell_type": "code",
   "execution_count": null,
   "metadata": {},
   "outputs": [],
   "source": [
    "# Run k-means\n",
    "from sklearn.cluster import KMeans\n",
    "\n",
    "kmeans = KMeans(n_clusters=3)\n",
    "kmeans.fit(embeddings_pca)\n",
    "\n",
    "kmeans.labels_\n"
   ]
  },
  {
   "cell_type": "code",
   "execution_count": null,
   "metadata": {},
   "outputs": [],
   "source": [
    "# Sample first 3 from each cluster\n",
    "emails_formatted_np = np.array(emails_formatted)\n",
    "for cluster_id in range(3):\n",
    "    print(f\"Cluster {cluster_id}:\")\n",
    "    for i in range(3):\n",
    "        print(emails_formatted_np[kmeans.labels_ == cluster_id][i])\n"
   ]
  }
 ],
 "metadata": {
  "kernelspec": {
   "display_name": "slingshot",
   "language": "python",
   "name": "python3"
  },
  "language_info": {
   "codemirror_mode": {
    "name": "ipython",
    "version": 3
   },
   "file_extension": ".py",
   "mimetype": "text/x-python",
   "name": "python",
   "nbconvert_exporter": "python",
   "pygments_lexer": "ipython3",
   "version": "3.10.13"
  }
 },
 "nbformat": 4,
 "nbformat_minor": 2
}
